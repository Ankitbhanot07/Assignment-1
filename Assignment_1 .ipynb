{
 "cells": [
  {
   "cell_type": "markdown",
   "id": "b8408e7f",
   "metadata": {},
   "source": [
    "Q1 :    In the below elements which of them are values or an expression? eg:- values can be\n",
    "        integer or string and expressions will be mathematical operators?\n",
    "        *\n",
    "        'hello'\n",
    "        -87.8\n",
    "        -\n",
    "        /\n",
    "        +\n",
    "        6"
   ]
  },
  {
   "cell_type": "code",
   "execution_count": null,
   "id": "0fcb89c9",
   "metadata": {},
   "outputs": [],
   "source": [
    "Ans1 : expression = * , - , / , +\n",
    "       values = 'hello' , -87.8 , 6"
   ]
  },
  {
   "cell_type": "markdown",
   "id": "9d699356",
   "metadata": {},
   "source": [
    "Q2 :   What is the difference between string and variable?"
   ]
  },
  {
   "cell_type": "markdown",
   "id": "96b2b8e3",
   "metadata": {},
   "source": [
    "Ans2 : Variable act as a container to store a data of any data type,and after variable name \n",
    "       we use = to assign value to a variable name. \n",
    "        \n",
    "       String is data type usually enclosed by single quotes(''),double quotes(\" \"),\n",
    "       or tripple qoutes(\"\"\" \"\"\")and tripple quotes is used to store multi line of data."
   ]
  },
  {
   "cell_type": "code",
   "execution_count": null,
   "id": "1156c7be",
   "metadata": {},
   "outputs": [],
   "source": [
    "Q3 :   Describe three different data types?"
   ]
  },
  {
   "cell_type": "markdown",
   "id": "53c4fb78",
   "metadata": {},
   "source": [
    "Ans3 : Three different data types:\n",
    "       1 - Numeric data types\n",
    "       2 - Text data type\n",
    "       3 - Boolean data type\n",
    "    \n",
    "Numeric data type = Numeric data type represent the value that has a numeriv values,The numeric \n",
    "                    value can be describe as: \n",
    "                   -Integer :         (int)in which only number is used for eg..1,2,34,4,57,8,...etc.\n",
    "                   \n",
    "                   -Floating number : (float)the numbers in which decimal is used for                                                       eg.14.4,10.1,...etc\n",
    "                   \n",
    "                   -Complex numbers - This number is created by combining of two numbers where in\n",
    "                                      which one number is real and second number is i,aginery number.\n",
    "                        \n",
    "Text data type =    Text data type represent the string(str). String is data type usually enclosed \n",
    "                    by single quotes(''),double quotes(\" \"),or tripple qoutes(\"\"\" \"\"\"),\n",
    "                    It can contain numbers or characters,or several sentences.\n",
    "        \n",
    "Boolean data type = Bollean data type represent the True and False value of an expression,\n",
    "                    for eg:for ex the expression 1 <= 2 is True , while the expression 0 == 1 is                         False \n",
    "                   "
   ]
  },
  {
   "cell_type": "markdown",
   "id": "69c21d6b",
   "metadata": {},
   "source": [
    "Q4 :   What is an expression made up of? What do all expressions do?"
   ]
  },
  {
   "cell_type": "markdown",
   "id": "e1762020",
   "metadata": {},
   "source": [
    "Ans4 : An expression is made up of combination of operators and operands, and expressions represent\n",
    "       the value."
   ]
  },
  {
   "cell_type": "markdown",
   "id": "ee1774a7",
   "metadata": {},
   "source": [
    "Q5 :   This assignment statements, like spam = 10. What is the difference between an\n",
    "       expression and a statement?"
   ]
  },
  {
   "cell_type": "markdown",
   "id": "3f3f9b31",
   "metadata": {},
   "source": [
    "Ans5 : An expression evaluates to a single value and a statement does not."
   ]
  },
  {
   "cell_type": "markdown",
   "id": "ae050ff4",
   "metadata": {},
   "source": [
    "Q6 :   After running the following code, what does the variable bacon contain?\n",
    "       bacon = 22\n",
    "       bacon + 1"
   ]
  },
  {
   "cell_type": "markdown",
   "id": "754624f1",
   "metadata": {},
   "source": [
    "ans6 : The bacon variable contain the numerical value of 22."
   ]
  },
  {
   "cell_type": "markdown",
   "id": "73a6053b",
   "metadata": {},
   "source": [
    "Q7 :   What should the values of the following two terms be?\n",
    "       'spam'+'spamspam'\n",
    "       'spam'*3"
   ]
  },
  {
   "cell_type": "code",
   "execution_count": null,
   "id": "201bd73f",
   "metadata": {},
   "outputs": [],
   "source": [
    "Ans7 : spamspam       # we can concatinate string with string\n",
    "       spamspamspam   "
   ]
  },
  {
   "cell_type": "markdown",
   "id": "9dc64792",
   "metadata": {},
   "source": [
    "Q8 :   Why is eggs a valid variable name while 100 is invalid?"
   ]
  },
  {
   "cell_type": "markdown",
   "id": "549087e4",
   "metadata": {},
   "source": [
    "Ans8 : Because variable name must start with letter or underscore character not with numerical value        or any special character , thats why eggs is valid variable name and 100 is not a valid              variable name."
   ]
  },
  {
   "cell_type": "markdown",
   "id": "9bcd4a1e",
   "metadata": {},
   "source": [
    "Q9 :   What three functions can be used to get the integer, floating-point number, or string\n",
    "       version of a value?"
   ]
  },
  {
   "cell_type": "markdown",
   "id": "c71c9765",
   "metadata": {},
   "source": [
    "Ans9 : int() , float() , str()"
   ]
  },
  {
   "cell_type": "markdown",
   "id": "cc85cbcc",
   "metadata": {},
   "source": [
    "Q10 :  Why does this expression cause an error? How can you fix it?\n",
    "      'I have eaten'  + 99 +  'burritos'."
   ]
  },
  {
   "cell_type": "markdown",
   "id": "65b15738",
   "metadata": {},
   "source": [
    "Ans10 : Because string can only concatinate with string not with integer value.and  we fix thi\n",
    "        issue with doing type casting to convert int value into string."
   ]
  }
 ],
 "metadata": {
  "kernelspec": {
   "display_name": "Python 3 (ipykernel)",
   "language": "python",
   "name": "python3"
  },
  "language_info": {
   "codemirror_mode": {
    "name": "ipython",
    "version": 3
   },
   "file_extension": ".py",
   "mimetype": "text/x-python",
   "name": "python",
   "nbconvert_exporter": "python",
   "pygments_lexer": "ipython3",
   "version": "3.9.12"
  }
 },
 "nbformat": 4,
 "nbformat_minor": 5
}
